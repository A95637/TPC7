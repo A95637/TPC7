{
 "cells": [
  {
   "cell_type": "markdown",
   "metadata": {},
   "source": [
    "__Idenficador:__ TPC7  \n",
    "__Título do Trabalho:__ Trabalhar com Bases de Dados    \n",
    "__Data de ínicio:__ 2021-11-22   \n",
    "__Data do Fim:__ 2021-11-28   \n",
    "__Supervisor:__ José Carlos Ramalho  \n",
    "__Autor:__ Luís Manuel Mendonça Gonçalves A95637  \n",
    "\n",
    "\n",
    "__Resumo:__   \n",
    "Neste trabalho foi pedido que fosse desenvolvido as capacidades de trabalhar com Bases de Dados.  \n",
    "Estas Bases de Dados baseias-se num dicionario onde na chave _tpc_, seria uma lista das notas dos diferentes Tpc dos alunos.  \n",
    "Nestes exercicios foram pedidos para fazer leitura da base de dados, leitura de dados de um aluno em especifico e distruibuições por notas e por cursos e suas especificas representações gráficas"
   ]
  },
  {
   "cell_type": "markdown",
   "metadata": {},
   "source": [
    "## Dataset\n",
    "\n",
    "Para a resoluÃ§Ã£o dos exercÃ­cios desta ficha, descarrega o dataset de alunos do site da UC.\n",
    "\n",
    "### Estrutura do dataset\n",
    "O dataset tem a seguinte estrutura:\n",
    "\n",
    "```\n",
    "id_aluno,nome,curso,tpc1,tpc2,tpc3,tpc4\n",
    "\"a1\",\"Aysha Melanie Gilberto\",\"LEI\",12,8,19,8\n",
    "\"a2\",\"Igor AndrÃ© Cantanhede\",\"ENGFIS\",12,16,18,20\n",
    "\"a3\",\"LaurÃ©nio Narciso\",\"ENGFIS\",8,14,15,14\n",
    "\"a4\",\"Jasnoor Casegas\",\"LCC\",14,20,17,11\n",
    "\"a5\",\"Tawseef RebouÃ§as\",\"ENGBIOM\",13,14,13,17\n",
    "\"a6\",\"Eryk Clementino\",\"LEI\",10,19,11,14\n",
    "...\n",
    "```"
   ]
  },
  {
   "cell_type": "markdown",
   "metadata": {},
   "source": [
    "## Leitura (exercÃ­cio 1)\n",
    "\n",
    "Depois de pensares num modelo adequado especifica a funÃ§Ã£o que lÃª o ficheiro e povoa esse modelo."
   ]
  },
  {
   "cell_type": "code",
   "execution_count": 130,
   "metadata": {},
   "outputs": [
    {
     "name": "stdout",
     "output_type": "stream",
     "text": [
      "c:\\Users\\Luís Gonçalves\\OneDrive\\Ambiente de Trabalho\\Programação\\T6\n"
     ]
    }
   ],
   "source": [
    "import os\n",
    "print(os.getcwd())"
   ]
  },
  {
   "cell_type": "code",
   "execution_count": 131,
   "metadata": {},
   "outputs": [],
   "source": [
    "# Descreve em texto o teu modelo\n",
    "#\n",
    "# BDAlunos = [Aluno]\n",
    "# Aluno = {id: \"...\", nome: \"...\", curso: \"...\", tpc: [int]}\n",
    "#\n",
    "# Leitura/carregamento da informaÃ§Ã£o do ficheiro\n",
    "def lerDataset(fnome):\n",
    "    bd = []\n",
    "    f = open( fnome, encoding='utf-8')\n",
    "    f.readline()\n",
    "    for linha in f:\n",
    "        linha2=linha.replace('\"',\"\")\n",
    "        novaLinha = linha2.replace(\"\\n\",\"\")\n",
    "        campos = novaLinha.split(\",\")\n",
    "        aluno = {}\n",
    "        aluno['id'] = campos[0]\n",
    "        aluno['nome'] = campos[1]\n",
    "        aluno['curso'] = campos[2]\n",
    "        listaTPC = []\n",
    "        for tpc in campos[3:]:\n",
    "            listaTPC.append(int(tpc))\n",
    "        aluno['tpc'] = listaTPC\n",
    "        bd.append(aluno)\n",
    "    return bd"
   ]
  },
  {
   "cell_type": "code",
   "execution_count": 132,
   "metadata": {},
   "outputs": [],
   "source": [
    "BDalunos = lerDataset(\"alunos.csv\")\n",
    "# print(BDalunos)"
   ]
  },
  {
   "cell_type": "markdown",
   "metadata": {},
   "source": [
    "## Listagem (exercÃ­cio 2)\n",
    "\n",
    "Especifica uma funÃ§Ã£o que faÃ§a a listagem no monitor dos vÃ¡rios registos de informaÃ§Ã£o.\n",
    "Tenta dar a forma duma tabela em que as colunas tÃªm todas a mesma dimensÃ£o."
   ]
  },
  {
   "cell_type": "code",
   "execution_count": 133,
   "metadata": {},
   "outputs": [],
   "source": [
    "# Listagem da informaÃ§Ã£o\n",
    "def listarDataset(bd):\n",
    "    print(\"id     |nome               |curso      | média\")\n",
    "    print(\"----------------------------------------------\")\n",
    "    for a in bd:\n",
    "        print(a['id']+' | '+a['nome']+' | '+a['curso']\n",
    "                +' | '+str(sum(a['tpc'])/len(a['tpc'])))"
   ]
  },
  {
   "cell_type": "code",
   "execution_count": 134,
   "metadata": {},
   "outputs": [
    {
     "name": "stdout",
     "output_type": "stream",
     "text": [
      "id     |nome               |curso      | média\n",
      "----------------------------------------------\n",
      "a1 | Aysha Melanie Gilberto | LEI | 11.75\n",
      "a2 | Igor André Cantanhede | ENGFIS | 16.5\n",
      "a3 | Laurénio Narciso | ENGFIS | 12.75\n",
      "a4 | Jasnoor Casegas | LCC | 15.5\n",
      "a5 | Tawseef Rebouças | ENGBIOM | 14.25\n",
      "a6 | Eryk Clementino | LEI | 13.5\n",
      "a7 | Ianna Noivo | ENGBIOM | 15.75\n",
      "a8 | Ayla Thaissa Reina | ENGBIOM | 11.5\n",
      "a9 | Cássia Viviane Coitã | ENGFIS | 13.0\n",
      "a10 | Koby Vindima | LEI | 14.0\n",
      "a11 | Gustavo Martim Hernandez | ENGBIOM | 11.0\n",
      "a12 | Siddarta Beiriz | LEI | 14.75\n",
      "a13 | Daniela Patrícia Montes | ENGBIOM | 16.75\n",
      "a14 | Kaylla Pessego | LCC | 14.0\n",
      "a15 | Bianca Cristina Primitivo | ENGBIOM | 13.25\n",
      "a16 | Magna Galhardo | ENGFIS | 15.25\n",
      "a17 | Grace Isabel Patriarca | LCC | 12.75\n",
      "a18 | Saubhagya Buco | LEI | 15.25\n",
      "a19 | Ivo Vicente Boisa | ENGBIOM | 13.75\n",
      "a20 | Vivaan Castilhos | ENGFIS | 13.0\n",
      "a21 | Layana Camejo | ENGFIS | 14.75\n",
      "a22 | Mahdi Menoita | ENGFIS | 12.75\n",
      "a23 | Yifan Cortinado | LEI | 15.25\n",
      "a24 | Éder Sodré | ENGFIS | 14.0\n",
      "a25 | Dhriti Magano | ENGFIS | 14.25\n",
      "a26 | Steve Devesa | ENGBIOM | 11.75\n",
      "a27 | Lisandro Mariano Picassinos | ENGFIS | 12.25\n",
      "a28 | Itiel Quinoy | LEI | 13.25\n",
      "a29 | Pranika Reimoo | LEI | 14.0\n",
      "a30 | Manaia Viseu | ENGFIS | 12.75\n",
      "a31 | Eva Manuel Caio | ENGFIS | 16.0\n",
      "a32 | Ariane Sofia Foja | LEI | 17.5\n",
      "a33 | Jaime António Pauseiro | LCC | 12.5\n",
      "a34 | Tanisha Marzagoo | ENGBIOM | 15.0\n",
      "a35 | Siyon Anca | LEI | 13.75\n",
      "a36 | Diana Beatriz Boavista | LCC | 16.5\n",
      "a37 | Elisiário Saberio | ENGFIS | 16.25\n",
      "a38 | Maira Brites | ENGFIS | 15.25\n",
      "a39 | Victória Gabriela Incenso | LEI | 13.0\n",
      "a40 | Najua Serôdio | LCC | 15.0\n",
      "a41 | Lachezar Rosas | ENGBIOM | 16.75\n",
      "a42 | Kattleya Trigueiro | ENGFIS | 16.0\n",
      "a43 | Tatiana Guiomar Maricoto | LCC | 13.25\n",
      "a44 | Mélanie Daniela Bugalhão | LCC | 15.25\n",
      "a45 | Imayame Hespanha | ENGFIS | 16.75\n",
      "a46 | Yuri Gabriel Baganha | LCC | 15.25\n",
      "a47 | Moisés João Cornelio | LEI | 18.0\n",
      "a48 | Nazir Assif Trinta | LEI | 12.0\n",
      "a49 | Karamjot Arezes | LEI | 12.75\n",
      "a50 | Rishit Justa | ENGBIOM | 9.75\n",
      "a51 | Iara de Jesus Gonçalo | ENGFIS | 12.0\n",
      "a52 | Stepfan Owusu Lercas | LEI | 14.25\n",
      "a53 | Abner Umbelina | ENGBIOM | 14.75\n",
      "a54 | Dânia Lucy Montelobo | LEI | 15.75\n",
      "a55 | Myla Lopez | ENGFIS | 14.5\n",
      "a56 | Hakeem Brazão | LEI | 17.25\n",
      "a57 | Quinn Aveiro | ENGBIOM | 13.75\n",
      "a58 | Etienne Constentino | ENGBIOM | 11.25\n",
      "a59 | Emanuel Marcos Delfina | LEI | 11.25\n",
      "a60 | Mariana Catarina Ramalheira | ENGBIOM | 16.5\n",
      "a61 | Bradley Tabau | LCC | 15.75\n",
      "a62 | Ahmadou Bamba Calcinha | LCC | 14.25\n",
      "a63 | Francisco Pedro Derresa | ENGFIS | 14.5\n",
      "a64 | Gil Miguel Lima | ENGBIOM | 14.25\n",
      "a65 | Leonor Pedro Carqueijeiro | ENGBIOM | 13.75\n",
      "a66 | Genrikh Maximovich Vila-Chã | ENGFIS | 12.25\n",
      "a67 | Mayra Larissa Rolo | LCC | 14.5\n",
      "a68 | Leandro David Dunhoo | ENGBIOM | 13.75\n",
      "a69 | Adele Belchior | ENGBIOM | 15.25\n",
      "a70 | Frantceska Borreca | ENGFIS | 14.0\n",
      "a71 | Derrick Urias | ENGFIS | 10.75\n",
      "a72 | Ana Gabriel Quirino | LCC | 13.5\n",
      "a73 | Carolina Antoo | ENGBIOM | 16.25\n",
      "a74 | Vânia Sofia Porfirio | ENGBIOM | 17.5\n",
      "a75 | Dárcio Wosvaldo Tudela | LEI | 13.25\n",
      "a76 | Zhara Couxão | ENGFIS | 13.0\n",
      "a77 | Tomé Ferrito | LCC | 14.5\n",
      "a78 | Iasmin Paloma Chaveiro | LCC | 12.75\n",
      "a79 | Sadagi Cruto | ENGBIOM | 15.75\n",
      "a80 | Maria Carolina Josué | ENGFIS | 18.0\n",
      "a81 | Quaresma Lancastre | ENGBIOM | 15.25\n",
      "a82 | Evaldir Gervasio | ENGFIS | 14.5\n",
      "a83 | Dolorinda Adolfo | ENGFIS | 13.75\n",
      "a84 | Laudário Frasão | LCC | 17.0\n",
      "a85 | Rómula Jeronimo | ENGFIS | 11.5\n",
      "a86 | Clésio Rodeiro | LCC | 13.0\n",
      "a87 | Feliciano José Avis | ENGFIS | 9.75\n",
      "a88 | Afonso Adriano Marca | ENGBIOM | 12.75\n",
      "a89 | Victória Miguel Rosete | ENGFIS | 13.0\n",
      "a90 | Tome Teroso | ENGFIS | 11.25\n",
      "a91 | Constança Filipa Melado | LEI | 12.5\n",
      "a92 | Madalena Jesus Alfaiate | LEI | 14.25\n",
      "a93 | Bivhan Reimbau | LCC | 12.0\n",
      "a94 | Viviana Sofia Gaspar | ENGBIOM | 16.5\n",
      "a95 | Íris Soraia Chiote | LEI | 13.75\n",
      "a96 | Anaïs Sintra | LCC | 14.75\n",
      "a97 | Salvador Banaca | LCC | 13.25\n",
      "a98 | Guilherme Matias Almeirão | ENGFIS | 11.5\n",
      "a99 | Xavier Luís Bulha | ENGFIS | 12.0\n",
      "a100 | Tude Searas | LEI | 14.75\n"
     ]
    }
   ],
   "source": [
    "listarDataset(BDalunos)"
   ]
  },
  {
   "cell_type": "markdown",
   "metadata": {},
   "source": [
    "## Consulta de um registo (exercÃ­cio 3)\n",
    "\n",
    "Especifica uma funÃ§Ã£o que, dado o id de um aluno, coloca a sua informaÃ§Ã£o no monitor. Para alÃ©m disso, indica tambÃ©m a mÃ©dia dos TPC realizados."
   ]
  },
  {
   "cell_type": "code",
   "execution_count": 135,
   "metadata": {},
   "outputs": [
    {
     "name": "stdout",
     "output_type": "stream",
     "text": [
      "a100 | Tude Searas | LEI | 14.75\n"
     ]
    }
   ],
   "source": [
    "# Consulta de um registo\n",
    "def consultarDataset(bd, id):\n",
    "    for a in bd:\n",
    "        if a[\"id\"]==id:\n",
    "             print(a['id']+' | '+a['nome']+' | '+a['curso']\n",
    "                +' | '+str(sum(a['tpc'])/len(a['tpc'])))\n",
    "\n",
    "#Por exemplo \n",
    "consultarDataset(BDalunos, 'a100')"
   ]
  },
  {
   "cell_type": "markdown",
   "metadata": {},
   "source": [
    "## Top 10 (exercÃ­cio 4)\n",
    "\n",
    "Especifica um funÃ§Ã£o que dÃ¡ como resultado uma lista com os alunos com as 10 mÃ©dias mais altas: id, nome, curso, mÃ©dia."
   ]
  },
  {
   "cell_type": "code",
   "execution_count": 136,
   "metadata": {},
   "outputs": [
    {
     "name": "stdout",
     "output_type": "stream",
     "text": [
      "id     |nome               |curso      | média)\n",
      "----------------------------------------------\n",
      "a47 | Moisés João Cornelio | LEI | 18.0\n",
      "a80 | Maria Carolina Josué | ENGFIS | 18.0\n",
      "a32 | Ariane Sofia Foja | LEI | 17.5\n",
      "a74 | Vânia Sofia Porfirio | ENGBIOM | 17.5\n",
      "a56 | Hakeem Brazão | LEI | 17.25\n",
      "a84 | Laudário Frasão | LCC | 17.0\n",
      "a13 | Daniela Patrícia Montes | ENGBIOM | 16.75\n",
      "a41 | Lachezar Rosas | ENGBIOM | 16.75\n",
      "a45 | Imayame Hespanha | ENGFIS | 16.75\n",
      "a2 | Igor André Cantanhede | ENGFIS | 16.5\n"
     ]
    }
   ],
   "source": [
    "def org(resultados):\n",
    "    c,d=resultados.split(\"|\")\n",
    "    return float(d)\n",
    "def top10(bd):\n",
    "    resultados = [str(str(a[\"id\"]))+\"|\"+(str(sum(a['tpc'])/len(a['tpc']))) for a in bd]\n",
    "    resultados.sort(reverse=True, key=org)\n",
    "    print(\"\"\"id     |nome               |curso      | média)\n",
    "----------------------------------------------\"\"\")\n",
    "    \n",
    "    for i in resultados[:10]:\n",
    "        c,d=i.split(\"|\")\n",
    "        consultarDataset(BDalunos,c)\n",
    "top10(BDalunos[1:])"
   ]
  },
  {
   "cell_type": "markdown",
   "metadata": {},
   "source": [
    "## DistribuiÃ§Ã£o por curso (exercÃ­cio 5)\n",
    "\n",
    "Especifica uma funÃ§Ã£o que dÃ¡ como resultado uma lista de pares indicando quantos alunos hÃ¡ em cada curso."
   ]
  },
  {
   "cell_type": "code",
   "execution_count": 137,
   "metadata": {},
   "outputs": [],
   "source": [
    "def distribPorCurso(bd):\n",
    "    distribuicao = {}\n",
    "    for a in bd:\n",
    "        if a['curso'] in distribuicao.keys():\n",
    "            distribuicao[a['curso']] = distribuicao[a['curso']] +1\n",
    "        else:\n",
    "            distribuicao[a['curso']] = 1\n",
    "    return distribuicao"
   ]
  },
  {
   "cell_type": "code",
   "execution_count": 138,
   "metadata": {},
   "outputs": [
    {
     "name": "stdout",
     "output_type": "stream",
     "text": [
      "{'LEI': 23, 'ENGFIS': 32, 'LCC': 20, 'ENGBIOM': 25}\n"
     ]
    }
   ],
   "source": [
    "mydistrib = distribPorCurso(BDalunos)\n",
    "print(mydistrib)"
   ]
  },
  {
   "cell_type": "markdown",
   "metadata": {},
   "source": [
    "## DistribuiÃ§Ã£o por mÃ©dias (exercÃ­cio 6)\n",
    "\n",
    "Especifica uma funÃ§Ã£o que dÃ¡ como resultado uma lista de pares, mÃ©dia e nÃºmero de alunos com essa mÃ©dia (considera o valor inteiro da mÃ©dia)."
   ]
  },
  {
   "cell_type": "code",
   "execution_count": 139,
   "metadata": {},
   "outputs": [
    {
     "name": "stdout",
     "output_type": "stream",
     "text": [
      "9 : 2\n",
      "10 : 1\n",
      "11 : 9\n",
      "12 : 15\n",
      "13 : 20\n",
      "14 : 21\n",
      "15 : 15\n",
      "16 : 11\n",
      "17 : 4\n",
      "18 : 2\n"
     ]
    }
   ],
   "source": [
    "def distribPorMedia(d):\n",
    "    distribuicao2 = {}\n",
    "    for a in d:\n",
    "        if ((int(sum(a['tpc'])/len(a['tpc'])))) in distribuicao2.keys():\n",
    "            distribuicao2[(int(sum(a['tpc'])/len(a['tpc'])))] = distribuicao2[(int(sum(a['tpc'])/len(a['tpc'])))] +1\n",
    "        else:\n",
    "            distribuicao2[((int(sum(a['tpc'])/len(a['tpc']))))]=1    \n",
    "    return distribuicao2\n",
    "x=distribPorMedia(BDalunos)\n",
    "for (key) in sorted(x):\n",
    "        print (str(key)+ \" : \" + str(x[key]))"
   ]
  },
  {
   "cell_type": "markdown",
   "metadata": {},
   "source": [
    "# GrÃ¡ficos\n",
    "\n",
    "## GrÃ¡fico da distribuiÃ§Ã£o por curso (exercÃ­cio 7)\n",
    "\n",
    "Especifica uma funÃ§Ã£o que faz o plot dum grÃ¡fico com a distribuiÃ§Ã£o de alunos por curso."
   ]
  },
  {
   "cell_type": "code",
   "execution_count": 140,
   "metadata": {},
   "outputs": [
    {
     "data": {
      "image/png": "[encoded data removed]",
      "text/plain": [
       "<Figure size 432x288 with 1 Axes>"
      ]
     },
     "metadata": {
      "needs_background": "light"
     },
     "output_type": "display_data"
    }
   ],
   "source": [
    "import matplotlib.pyplot as plt\n",
    "def plotDistribPorCurso(distribuicao):\n",
    "    fig = plt.figure()\n",
    "    ax = fig.add_axes([0,0,1,1])\n",
    "    Curso=[]\n",
    "    dist=[]\n",
    "    for linha in distribuicao:\n",
    "            Curso.append(linha)\n",
    "            dist.append(distribuicao[linha])\n",
    "    ax.bar(Curso,dist)\n",
    "    plt.show()\n",
    "plotDistribPorCurso(distribPorCurso(BDalunos))"
   ]
  },
  {
   "cell_type": "markdown",
   "metadata": {},
   "source": [
    "## GrÃ¡fico da distribuiÃ§Ã£o por mÃ©dia (exercÃ­cio 8)\n",
    "\n",
    "Especifica uma funÃ§Ã£o que faz o plot dum grÃ¡fico com a distribuiÃ§Ã£o de alunos por mÃ©dia."
   ]
  },
  {
   "cell_type": "code",
   "execution_count": 141,
   "metadata": {},
   "outputs": [
    {
     "data": {
      "image/png": "[encoded data removed]",
      "text/plain": [
       "<Figure size 432x288 with 1 Axes>"
      ]
     },
     "metadata": {
      "needs_background": "light"
     },
     "output_type": "display_data"
    }
   ],
   "source": [
    "def plotDistribPorMedia(distribuicao):\n",
    "    fig = plt.figure()\n",
    "    ax = fig.add_axes([0,0,1,1])\n",
    "    Media=[]\n",
    "    dist=[]\n",
    "    for linha in distribuicao:\n",
    "            Media.append(linha)\n",
    "            dist.append(distribuicao[linha])\n",
    "    ax.bar(Media,dist)\n",
    "    plt.show()\n",
    "plotDistribPorMedia(distribPorMedia(BDalunos))"
   ]
  }
 ],
 "metadata": {
  "interpreter": {
   "hash": "aee8b7b246df8f9039afb4144a1f6fd8d2ca17a180786b69acc140d282b71a49"
  },
  "kernelspec": {
   "display_name": "Python 3.9.4 64-bit",
   "name": "python3"
  },
  "language_info": {
   "codemirror_mode": {
    "name": "ipython",
    "version": 3
   },
   "file_extension": ".py",
   "mimetype": "text/x-python",
   "name": "python",
   "nbconvert_exporter": "python",
   "pygments_lexer": "ipython3",
   "version": "3.8.8"
  },
  "orig_nbformat": 4
 },
 "nbformat": 4,
 "nbformat_minor": 2
}
